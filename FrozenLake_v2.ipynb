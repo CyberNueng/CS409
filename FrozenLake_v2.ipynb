{
 "cells": [
  {
   "cell_type": "code",
   "execution_count": 101,
   "metadata": {},
   "outputs": [
    {
     "name": "stderr",
     "output_type": "stream",
     "text": [
      "[2017-09-27 15:07:14,647] Making new env: FrozenLake-v0\n"
     ]
    },
    {
     "name": "stdout",
     "output_type": "stream",
     "text": [
      "75.0\n"
     ]
    }
   ],
   "source": [
    "import gym\n",
    "env = gym.make('FrozenLake-v0')\n",
    "h=0\n",
    "g=0\n",
    "policy=[0,3,3,3,\n",
    "            0,h,0,h,\n",
    "            3,1,0,h,\n",
    "            h,2,1,g]\n",
    "sum_reward=0\n",
    "for episode in range(100):\n",
    "    obs=env.reset()\n",
    "    done=False\n",
    "    #print(\"episode: {}\".format(episode))\n",
    "    while not done:\n",
    "        obs,reward,done,info=env.step(policy[obs])\n",
    "    sum_reward+=reward\n",
    "    #env.render()\n",
    "print(sum_reward)"
   ]
  },
  {
   "cell_type": "code",
   "execution_count": null,
   "metadata": {
    "collapsed": true
   },
   "outputs": [],
   "source": []
  }
 ],
 "metadata": {
  "kernelspec": {
   "display_name": "Python [conda root]",
   "language": "python",
   "name": "conda-root-py"
  },
  "language_info": {
   "codemirror_mode": {
    "name": "ipython",
    "version": 3
   },
   "file_extension": ".py",
   "mimetype": "text/x-python",
   "name": "python",
   "nbconvert_exporter": "python",
   "pygments_lexer": "ipython3",
   "version": "3.6.1"
  }
 },
 "nbformat": 4,
 "nbformat_minor": 2
}
