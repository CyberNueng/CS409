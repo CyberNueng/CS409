{
 "cells": [
  {
   "cell_type": "code",
   "execution_count": 1,
   "metadata": {
    "collapsed": true
   },
   "outputs": [],
   "source": [
    "%matplotlib inline\n",
    "import numpy as np\n",
    "from matplotlib import pyplot as plt\n",
    "import warnings\n",
    "warnings.filterwarnings('ignore')"
   ]
  },
  {
   "cell_type": "code",
   "execution_count": 2,
   "metadata": {
    "collapsed": true
   },
   "outputs": [],
   "source": [
    "x=[]\n",
    "y=[]\n",
    "for i in range(10):\n",
    "    x.append([2+np.random.rand(), 2+np.random.rand(),1])\n",
    "    y.append([0,1])\n",
    "    \n",
    "for i in range(10):\n",
    "    x.append([-2+np.random.rand(), -2+np.random.rand(),1])\n",
    "    y.append([1,0])"
   ]
  },
  {
   "cell_type": "code",
   "execution_count": 3,
   "metadata": {
    "collapsed": true
   },
   "outputs": [],
   "source": [
    "x=np.array(x)\n",
    "y=np.array(y)"
   ]
  },
  {
   "cell_type": "code",
   "execution_count": 4,
   "metadata": {},
   "outputs": [
    {
     "data": {
      "text/plain": [
       "[<matplotlib.lines.Line2D at 0x7b05a90>]"
      ]
     },
     "execution_count": 4,
     "metadata": {},
     "output_type": "execute_result"
    },
    {
     "data": {
      "image/png": "[encoded data removed]",
      "text/plain": [
       "<matplotlib.figure.Figure at 0x793df28>"
      ]
     },
     "metadata": {},
     "output_type": "display_data"
    }
   ],
   "source": [
    "plt.plot(x[:,0],x[:,1],'o')"
   ]
  },
  {
   "cell_type": "markdown",
   "metadata": {},
   "source": [
    "# Network"
   ]
  },
  {
   "cell_type": "code",
   "execution_count": 5,
   "metadata": {
    "collapsed": true
   },
   "outputs": [],
   "source": [
    "def g(x):    \n",
    "    return 1/(1+np.exp(-x))\n",
    "\n",
    "def grad_g(g):\n",
    "    return (1-g)*g"
   ]
  },
  {
   "cell_type": "code",
   "execution_count": 35,
   "metadata": {
    "collapsed": true
   },
   "outputs": [],
   "source": [
    "np.random.seed(1)\n",
    "wb0 = 2*np.random.random((3,2))-1\n",
    "wb1 = 2*np.random.random((2,2))-1\n",
    "a=[]"
   ]
  },
  {
   "cell_type": "code",
   "execution_count": 36,
   "metadata": {},
   "outputs": [],
   "source": [
    "for i in range(100):\n",
    "    z0=np.dot(x,wb0)\n",
    "    a1=g(z0)\n",
    "    z1=np.dot(a1,wb1)\n",
    "    a2=g(z1)\n",
    "    \n",
    "    delta_a2=y-a2\n",
    "    delta_z1=delta_a2*grad_g(a2)\n",
    "    \n",
    "    wb1 +=  a1.T.dot(delta_z1)\n",
    "    \n",
    "    delta_a1=delta_z1.dot(wb1.T)\n",
    "    delta_z0=delta_a1*grad_g(a1)\n",
    "    \n",
    "    wb0 += x.T.dot(delta_z0)\n",
    "    \n",
    "    #if(i % 10000) == 0:   # Only print the error every 10000 steps \n",
    "        #print(\"Error: \" + str(np.mean(np.abs(delta_a2))))\n",
    "    a.append(np.mean(np.abs(delta_a2)))"
   ]
  },
  {
   "cell_type": "code",
   "execution_count": 39,
   "metadata": {},
   "outputs": [
    {
     "data": {
      "text/plain": [
       "<matplotlib.text.Text at 0x95c7f28>"
      ]
     },
     "execution_count": 39,
     "metadata": {},
     "output_type": "execute_result"
    },
    {
     "data": {
      "image/png": "[encoded data removed]",
      "text/plain": [
       "<matplotlib.figure.Figure at 0xa0df518>"
      ]
     },
     "metadata": {},
     "output_type": "display_data"
    }
   ],
   "source": [
    "b=np.arange(0, 100, 1)\n",
    "plt.style.use('ggplot')\n",
    "plt.plot(b,a)\n",
    "plt.title('Error')\n",
    "plt.xlabel('steps')\n",
    "plt.ylabel('error')"
   ]
  },
  {
   "cell_type": "code",
   "execution_count": null,
   "metadata": {
    "collapsed": true
   },
   "outputs": [],
   "source": []
  }
 ],
 "metadata": {
  "kernelspec": {
   "display_name": "Python 2",
   "language": "python",
   "name": "python2"
  },
  "language_info": {
   "codemirror_mode": {
    "name": "ipython",
    "version": 2
   },
   "file_extension": ".py",
   "mimetype": "text/x-python",
   "name": "python",
   "nbconvert_exporter": "python",
   "pygments_lexer": "ipython2",
   "version": "2.7.13"
  }
 },
 "nbformat": 4,
 "nbformat_minor": 2
}
